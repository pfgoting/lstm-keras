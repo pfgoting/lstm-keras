{
 "cells": [
  {
   "cell_type": "code",
   "execution_count": 2,
   "metadata": {},
   "outputs": [],
   "source": [
    "# Example of LSTM to learn a sequence\n",
    "from pandas import DataFrame\n",
    "from pandas import concat\n",
    "from keras.models import Sequential\n",
    "from keras.layers import Dense,Dropout, Activation\n",
    "from keras.layers import LSTM\n",
    "import matplotlib.pyplot as plt\n",
    "import matplotlib\n",
    "import time\n",
    "import pandas as pd\n",
    "import numpy as np\n",
    "%matplotlib inline"
   ]
  },
  {
   "cell_type": "code",
   "execution_count": null,
   "metadata": {
    "collapsed": true
   },
   "outputs": [],
   "source": []
  },
  {
   "cell_type": "code",
   "execution_count": 3,
   "metadata": {
    "collapsed": true,
    "scrolled": true
   },
   "outputs": [],
   "source": [
    "sin = 'sinwave.csv'\n",
    "df = pd.read_csv(sin,header=0,squeeze=True)\n",
    "# create X/y pairs\n",
    "df = concat([df.shift(1), df], axis=1)\n",
    "df.dropna(inplace=True)\n",
    "# convert to LSTM friendly format\n",
    "values = df.values\n",
    "# split data into train and test\n",
    "train_size = int(len(df) * 0.67)\n",
    "test_size = len(df) - train_size\n",
    "X,Y = values[:,0],values[:,1]\n",
    "# train, test = series[0:train_size], series[train_size:len(series)]\n",
    "trainX, trainY = X[0:train_size], Y[0:train_size]\n",
    "testX, testY = X[-test_size:len(values)], Y[-test_size:len(values)][:-90]\n",
    "trainX,testX = trainX.reshape(len(trainX), 1, 1), testX[:-90].reshape(len(testX[:-90]), 1, 1)\n",
    "shifttestY = testY[:-10]\n",
    "shifttestX = testX[:-10]"
   ]
  },
  {
   "cell_type": "code",
   "execution_count": 36,
   "metadata": {},
   "outputs": [
    {
     "data": {
      "text/plain": [
       "(1550, 1, 1)"
      ]
     },
     "execution_count": 36,
     "metadata": {},
     "output_type": "execute_result"
    }
   ],
   "source": [
    "# plt.figure()\n",
    "# # testX = testX[:-93,0].reshape(len(testX[:-93,0]), 1, 1)\n",
    "# # testY = testY[:-93]\n",
    "# plt.plot(testY)\n",
    "# print len(testY)\n",
    "# plt.plot(shifttestY)\n",
    "# print len(shifttestY)\n",
    "# plt.show()\n",
    "shifttestX.shape"
   ]
  },
  {
   "cell_type": "code",
   "execution_count": 4,
   "metadata": {
    "collapsed": true
   },
   "outputs": [],
   "source": [
    "# reader for jakobs\n",
    "seq_len = 1\n",
    "def load_data(filename, seq_len, normalise_window):\n",
    "    f = open(filename, 'rb').read()\n",
    "    data = f.decode().split('\\n')\n",
    "\n",
    "    sequence_length = seq_len + 1\n",
    "    result = []\n",
    "    for index in range(len(data) - sequence_length):\n",
    "        result.append(data[index: index + sequence_length])\n",
    "    \n",
    "    if normalise_window:\n",
    "        result = normalise_windows(result)\n",
    "\n",
    "    result = np.array(result)\n",
    "\n",
    "    row = round(0.9 * result.shape[0])\n",
    "    train = result[:int(row), :]\n",
    "    np.random.shuffle(train)\n",
    "    x_train = train[:, :-1]\n",
    "    y_train = train[:, -1]\n",
    "    x_test = result[int(row):, :-1]\n",
    "    y_test = result[int(row):, -1]\n",
    "\n",
    "    x_train = np.reshape(x_train, (x_train.shape[0], x_train.shape[1], 1))\n",
    "    x_test = np.reshape(x_test, (x_test.shape[0], x_test.shape[1], 1))\n",
    "\n",
    "    return [x_train, y_train, x_test, y_test]\n",
    "\n",
    "def normalise_windows(window_data):\n",
    "    normalised_data = []\n",
    "    for window in window_data:\n",
    "        normalised_window = [((float(p) / float(window[0])) - 1) for p in window]\n",
    "        normalised_data.append(normalised_window)\n",
    "    return normalised_data\n",
    "# X_train, y_train, X_test, y_test = load_data('sp500.csv', seq_len, True)\n",
    "trainX, trainY, testX, testY = load_data('sp500.csv', seq_len, True)\n",
    "shifttestY = testY[:-10]"
   ]
  },
  {
   "cell_type": "code",
   "execution_count": null,
   "metadata": {
    "collapsed": true
   },
   "outputs": [],
   "source": []
  },
  {
   "cell_type": "code",
   "execution_count": null,
   "metadata": {
    "collapsed": true,
    "scrolled": true
   },
   "outputs": [],
   "source": [
    "# create sequence\n",
    "length = 1000\n",
    "sequence = [i/float(length) for i in range(length)]\n",
    "# print(sequence)\n",
    "# create X/y pairs\n",
    "df = DataFrame(sequence)\n",
    "df = concat([df.shift(1), df], axis=1)\n",
    "df.dropna(inplace=True)\n",
    "# convert to LSTM friendly format\n",
    "values = df.values\n",
    "X, y = values[:, 0], values[:, 1]\n",
    "trainX = X.reshape(len(X), 1, 1)\n",
    "trainY = y\n",
    "testX = trainX\n",
    "testY = y\n",
    "# print trainX\n",
    "# print trainX.shape\n",
    "print \"Done with data preparation\""
   ]
  },
  {
   "cell_type": "code",
   "execution_count": 6,
   "metadata": {},
   "outputs": [
    {
     "name": "stdout",
     "output_type": "stream",
     "text": [
      "Fitting stateless model...\n",
      "Train on 3181 samples, validate on 168 samples\n",
      "Epoch 1/1000\n"
     ]
    },
    {
     "ename": "KeyboardInterrupt",
     "evalue": "",
     "output_type": "error",
     "traceback": [
      "\u001b[1;31m---------------------------------------------------------------------------\u001b[0m",
      "\u001b[1;31mKeyboardInterrupt\u001b[0m                         Traceback (most recent call last)",
      "\u001b[1;32m<ipython-input-6-8ef201f96663>\u001b[0m in \u001b[0;36m<module>\u001b[1;34m()\u001b[0m\n\u001b[0;32m     24\u001b[0m         \u001b[0mmodel\u001b[0m\u001b[1;33m.\u001b[0m\u001b[0mcompile\u001b[0m\u001b[1;33m(\u001b[0m\u001b[0moptimizer\u001b[0m\u001b[1;33m=\u001b[0m\u001b[1;34m'adam'\u001b[0m\u001b[1;33m,\u001b[0m \u001b[0mloss\u001b[0m\u001b[1;33m=\u001b[0m\u001b[1;34m'mean_squared_error'\u001b[0m\u001b[1;33m)\u001b[0m\u001b[1;33m\u001b[0m\u001b[0m\n\u001b[0;32m     25\u001b[0m         \u001b[1;31m# 3. fit network\u001b[0m\u001b[1;33m\u001b[0m\u001b[1;33m\u001b[0m\u001b[0m\n\u001b[1;32m---> 26\u001b[1;33m         \u001b[0mhistory\u001b[0m \u001b[1;33m=\u001b[0m \u001b[0mmodel\u001b[0m\u001b[1;33m.\u001b[0m\u001b[0mfit\u001b[0m\u001b[1;33m(\u001b[0m\u001b[0mtrainX\u001b[0m\u001b[1;33m,\u001b[0m \u001b[0mtrainY\u001b[0m\u001b[1;33m,\u001b[0m \u001b[0mepochs\u001b[0m\u001b[1;33m=\u001b[0m\u001b[1;36m1000\u001b[0m\u001b[1;33m,\u001b[0m \u001b[0mbatch_size\u001b[0m\u001b[1;33m=\u001b[0m\u001b[0mlen\u001b[0m\u001b[1;33m(\u001b[0m\u001b[0mtrainX\u001b[0m\u001b[1;33m)\u001b[0m\u001b[1;33m,\u001b[0m \u001b[0mverbose\u001b[0m\u001b[1;33m=\u001b[0m\u001b[1;36m1\u001b[0m\u001b[1;33m,\u001b[0m\u001b[0mvalidation_split\u001b[0m\u001b[1;33m=\u001b[0m\u001b[1;36m0.05\u001b[0m\u001b[1;33m)\u001b[0m\u001b[1;33m\u001b[0m\u001b[0m\n\u001b[0m\u001b[0;32m     27\u001b[0m         \u001b[1;31m# summarize history for loss\u001b[0m\u001b[1;33m\u001b[0m\u001b[1;33m\u001b[0m\u001b[0m\n\u001b[0;32m     28\u001b[0m         \u001b[0mplt\u001b[0m\u001b[1;33m.\u001b[0m\u001b[0mfigure\u001b[0m\u001b[1;33m(\u001b[0m\u001b[1;33m)\u001b[0m\u001b[1;33m\u001b[0m\u001b[0m\n",
      "\u001b[1;32mc:\\users\\cloud\\anaconda2\\envs\\deeplearn\\lib\\site-packages\\keras\\models.py\u001b[0m in \u001b[0;36mfit\u001b[1;34m(self, x, y, batch_size, epochs, verbose, callbacks, validation_split, validation_data, shuffle, class_weight, sample_weight, initial_epoch, **kwargs)\u001b[0m\n\u001b[0;32m    861\u001b[0m                               \u001b[0mclass_weight\u001b[0m\u001b[1;33m=\u001b[0m\u001b[0mclass_weight\u001b[0m\u001b[1;33m,\u001b[0m\u001b[1;33m\u001b[0m\u001b[0m\n\u001b[0;32m    862\u001b[0m                               \u001b[0msample_weight\u001b[0m\u001b[1;33m=\u001b[0m\u001b[0msample_weight\u001b[0m\u001b[1;33m,\u001b[0m\u001b[1;33m\u001b[0m\u001b[0m\n\u001b[1;32m--> 863\u001b[1;33m                               initial_epoch=initial_epoch)\n\u001b[0m\u001b[0;32m    864\u001b[0m \u001b[1;33m\u001b[0m\u001b[0m\n\u001b[0;32m    865\u001b[0m     def evaluate(self, x, y, batch_size=32, verbose=1,\n",
      "\u001b[1;32mc:\\users\\cloud\\anaconda2\\envs\\deeplearn\\lib\\site-packages\\keras\\engine\\training.py\u001b[0m in \u001b[0;36mfit\u001b[1;34m(self, x, y, batch_size, epochs, verbose, callbacks, validation_split, validation_data, shuffle, class_weight, sample_weight, initial_epoch, **kwargs)\u001b[0m\n\u001b[0;32m   1428\u001b[0m                               \u001b[0mval_f\u001b[0m\u001b[1;33m=\u001b[0m\u001b[0mval_f\u001b[0m\u001b[1;33m,\u001b[0m \u001b[0mval_ins\u001b[0m\u001b[1;33m=\u001b[0m\u001b[0mval_ins\u001b[0m\u001b[1;33m,\u001b[0m \u001b[0mshuffle\u001b[0m\u001b[1;33m=\u001b[0m\u001b[0mshuffle\u001b[0m\u001b[1;33m,\u001b[0m\u001b[1;33m\u001b[0m\u001b[0m\n\u001b[0;32m   1429\u001b[0m                               \u001b[0mcallback_metrics\u001b[0m\u001b[1;33m=\u001b[0m\u001b[0mcallback_metrics\u001b[0m\u001b[1;33m,\u001b[0m\u001b[1;33m\u001b[0m\u001b[0m\n\u001b[1;32m-> 1430\u001b[1;33m                               initial_epoch=initial_epoch)\n\u001b[0m\u001b[0;32m   1431\u001b[0m \u001b[1;33m\u001b[0m\u001b[0m\n\u001b[0;32m   1432\u001b[0m     \u001b[1;32mdef\u001b[0m \u001b[0mevaluate\u001b[0m\u001b[1;33m(\u001b[0m\u001b[0mself\u001b[0m\u001b[1;33m,\u001b[0m \u001b[0mx\u001b[0m\u001b[1;33m,\u001b[0m \u001b[0my\u001b[0m\u001b[1;33m,\u001b[0m \u001b[0mbatch_size\u001b[0m\u001b[1;33m=\u001b[0m\u001b[1;36m32\u001b[0m\u001b[1;33m,\u001b[0m \u001b[0mverbose\u001b[0m\u001b[1;33m=\u001b[0m\u001b[1;36m1\u001b[0m\u001b[1;33m,\u001b[0m \u001b[0msample_weight\u001b[0m\u001b[1;33m=\u001b[0m\u001b[1;32mNone\u001b[0m\u001b[1;33m)\u001b[0m\u001b[1;33m:\u001b[0m\u001b[1;33m\u001b[0m\u001b[0m\n",
      "\u001b[1;32mc:\\users\\cloud\\anaconda2\\envs\\deeplearn\\lib\\site-packages\\keras\\engine\\training.py\u001b[0m in \u001b[0;36m_fit_loop\u001b[1;34m(self, f, ins, out_labels, batch_size, epochs, verbose, callbacks, val_f, val_ins, shuffle, callback_metrics, initial_epoch)\u001b[0m\n\u001b[0;32m   1077\u001b[0m                 \u001b[0mbatch_logs\u001b[0m\u001b[1;33m[\u001b[0m\u001b[1;34m'size'\u001b[0m\u001b[1;33m]\u001b[0m \u001b[1;33m=\u001b[0m \u001b[0mlen\u001b[0m\u001b[1;33m(\u001b[0m\u001b[0mbatch_ids\u001b[0m\u001b[1;33m)\u001b[0m\u001b[1;33m\u001b[0m\u001b[0m\n\u001b[0;32m   1078\u001b[0m                 \u001b[0mcallbacks\u001b[0m\u001b[1;33m.\u001b[0m\u001b[0mon_batch_begin\u001b[0m\u001b[1;33m(\u001b[0m\u001b[0mbatch_index\u001b[0m\u001b[1;33m,\u001b[0m \u001b[0mbatch_logs\u001b[0m\u001b[1;33m)\u001b[0m\u001b[1;33m\u001b[0m\u001b[0m\n\u001b[1;32m-> 1079\u001b[1;33m                 \u001b[0mouts\u001b[0m \u001b[1;33m=\u001b[0m \u001b[0mf\u001b[0m\u001b[1;33m(\u001b[0m\u001b[0mins_batch\u001b[0m\u001b[1;33m)\u001b[0m\u001b[1;33m\u001b[0m\u001b[0m\n\u001b[0m\u001b[0;32m   1080\u001b[0m                 \u001b[1;32mif\u001b[0m \u001b[1;32mnot\u001b[0m \u001b[0misinstance\u001b[0m\u001b[1;33m(\u001b[0m\u001b[0mouts\u001b[0m\u001b[1;33m,\u001b[0m \u001b[0mlist\u001b[0m\u001b[1;33m)\u001b[0m\u001b[1;33m:\u001b[0m\u001b[1;33m\u001b[0m\u001b[0m\n\u001b[0;32m   1081\u001b[0m                     \u001b[0mouts\u001b[0m \u001b[1;33m=\u001b[0m \u001b[1;33m[\u001b[0m\u001b[0mouts\u001b[0m\u001b[1;33m]\u001b[0m\u001b[1;33m\u001b[0m\u001b[0m\n",
      "\u001b[1;32mc:\\users\\cloud\\anaconda2\\envs\\deeplearn\\lib\\site-packages\\keras\\backend\\tensorflow_backend.py\u001b[0m in \u001b[0;36m__call__\u001b[1;34m(self, inputs)\u001b[0m\n\u001b[0;32m   2263\u001b[0m                 \u001b[0mvalue\u001b[0m \u001b[1;33m=\u001b[0m \u001b[1;33m(\u001b[0m\u001b[0mindices\u001b[0m\u001b[1;33m,\u001b[0m \u001b[0msparse_coo\u001b[0m\u001b[1;33m.\u001b[0m\u001b[0mdata\u001b[0m\u001b[1;33m,\u001b[0m \u001b[0msparse_coo\u001b[0m\u001b[1;33m.\u001b[0m\u001b[0mshape\u001b[0m\u001b[1;33m)\u001b[0m\u001b[1;33m\u001b[0m\u001b[0m\n\u001b[0;32m   2264\u001b[0m             \u001b[0mfeed_dict\u001b[0m\u001b[1;33m[\u001b[0m\u001b[0mtensor\u001b[0m\u001b[1;33m]\u001b[0m \u001b[1;33m=\u001b[0m \u001b[0mvalue\u001b[0m\u001b[1;33m\u001b[0m\u001b[0m\n\u001b[1;32m-> 2265\u001b[1;33m         \u001b[0msession\u001b[0m \u001b[1;33m=\u001b[0m \u001b[0mget_session\u001b[0m\u001b[1;33m(\u001b[0m\u001b[1;33m)\u001b[0m\u001b[1;33m\u001b[0m\u001b[0m\n\u001b[0m\u001b[0;32m   2266\u001b[0m         updated = session.run(self.outputs + [self.updates_op],\n\u001b[0;32m   2267\u001b[0m                               \u001b[0mfeed_dict\u001b[0m\u001b[1;33m=\u001b[0m\u001b[0mfeed_dict\u001b[0m\u001b[1;33m,\u001b[0m\u001b[1;33m\u001b[0m\u001b[0m\n",
      "\u001b[1;32mc:\\users\\cloud\\anaconda2\\envs\\deeplearn\\lib\\site-packages\\keras\\backend\\tensorflow_backend.py\u001b[0m in \u001b[0;36mget_session\u001b[1;34m()\u001b[0m\n\u001b[0;32m    166\u001b[0m     \u001b[1;32mif\u001b[0m \u001b[1;32mnot\u001b[0m \u001b[0m_MANUAL_VAR_INIT\u001b[0m\u001b[1;33m:\u001b[0m\u001b[1;33m\u001b[0m\u001b[0m\n\u001b[0;32m    167\u001b[0m         \u001b[1;32mwith\u001b[0m \u001b[0msession\u001b[0m\u001b[1;33m.\u001b[0m\u001b[0mgraph\u001b[0m\u001b[1;33m.\u001b[0m\u001b[0mas_default\u001b[0m\u001b[1;33m(\u001b[0m\u001b[1;33m)\u001b[0m\u001b[1;33m:\u001b[0m\u001b[1;33m\u001b[0m\u001b[0m\n\u001b[1;32m--> 168\u001b[1;33m             \u001b[0m_initialize_variables\u001b[0m\u001b[1;33m(\u001b[0m\u001b[1;33m)\u001b[0m\u001b[1;33m\u001b[0m\u001b[0m\n\u001b[0m\u001b[0;32m    169\u001b[0m     \u001b[1;32mreturn\u001b[0m \u001b[0msession\u001b[0m\u001b[1;33m\u001b[0m\u001b[0m\n\u001b[0;32m    170\u001b[0m \u001b[1;33m\u001b[0m\u001b[0m\n",
      "\u001b[1;32mc:\\users\\cloud\\anaconda2\\envs\\deeplearn\\lib\\site-packages\\keras\\backend\\tensorflow_backend.py\u001b[0m in \u001b[0;36m_initialize_variables\u001b[1;34m()\u001b[0m\n\u001b[0;32m    339\u001b[0m     \u001b[1;32mif\u001b[0m \u001b[0muninitialized_variables\u001b[0m\u001b[1;33m:\u001b[0m\u001b[1;33m\u001b[0m\u001b[0m\n\u001b[0;32m    340\u001b[0m         \u001b[0msess\u001b[0m \u001b[1;33m=\u001b[0m \u001b[0mget_session\u001b[0m\u001b[1;33m(\u001b[0m\u001b[1;33m)\u001b[0m\u001b[1;33m\u001b[0m\u001b[0m\n\u001b[1;32m--> 341\u001b[1;33m         \u001b[0msess\u001b[0m\u001b[1;33m.\u001b[0m\u001b[0mrun\u001b[0m\u001b[1;33m(\u001b[0m\u001b[0mtf\u001b[0m\u001b[1;33m.\u001b[0m\u001b[0mvariables_initializer\u001b[0m\u001b[1;33m(\u001b[0m\u001b[0muninitialized_variables\u001b[0m\u001b[1;33m)\u001b[0m\u001b[1;33m)\u001b[0m\u001b[1;33m\u001b[0m\u001b[0m\n\u001b[0m\u001b[0;32m    342\u001b[0m \u001b[1;33m\u001b[0m\u001b[0m\n\u001b[0;32m    343\u001b[0m \u001b[1;33m\u001b[0m\u001b[0m\n",
      "\u001b[1;32mc:\\users\\cloud\\anaconda2\\envs\\deeplearn\\lib\\site-packages\\tensorflow\\python\\client\\session.py\u001b[0m in \u001b[0;36mrun\u001b[1;34m(self, fetches, feed_dict, options, run_metadata)\u001b[0m\n\u001b[0;32m    787\u001b[0m     \u001b[1;32mtry\u001b[0m\u001b[1;33m:\u001b[0m\u001b[1;33m\u001b[0m\u001b[0m\n\u001b[0;32m    788\u001b[0m       result = self._run(None, fetches, feed_dict, options_ptr,\n\u001b[1;32m--> 789\u001b[1;33m                          run_metadata_ptr)\n\u001b[0m\u001b[0;32m    790\u001b[0m       \u001b[1;32mif\u001b[0m \u001b[0mrun_metadata\u001b[0m\u001b[1;33m:\u001b[0m\u001b[1;33m\u001b[0m\u001b[0m\n\u001b[0;32m    791\u001b[0m         \u001b[0mproto_data\u001b[0m \u001b[1;33m=\u001b[0m \u001b[0mtf_session\u001b[0m\u001b[1;33m.\u001b[0m\u001b[0mTF_GetBuffer\u001b[0m\u001b[1;33m(\u001b[0m\u001b[0mrun_metadata_ptr\u001b[0m\u001b[1;33m)\u001b[0m\u001b[1;33m\u001b[0m\u001b[0m\n",
      "\u001b[1;32mc:\\users\\cloud\\anaconda2\\envs\\deeplearn\\lib\\site-packages\\tensorflow\\python\\client\\session.py\u001b[0m in \u001b[0;36m_run\u001b[1;34m(self, handle, fetches, feed_dict, options, run_metadata)\u001b[0m\n\u001b[0;32m    995\u001b[0m     \u001b[1;32mif\u001b[0m \u001b[0mfinal_fetches\u001b[0m \u001b[1;32mor\u001b[0m \u001b[0mfinal_targets\u001b[0m\u001b[1;33m:\u001b[0m\u001b[1;33m\u001b[0m\u001b[0m\n\u001b[0;32m    996\u001b[0m       results = self._do_run(handle, final_targets, final_fetches,\n\u001b[1;32m--> 997\u001b[1;33m                              feed_dict_string, options, run_metadata)\n\u001b[0m\u001b[0;32m    998\u001b[0m     \u001b[1;32melse\u001b[0m\u001b[1;33m:\u001b[0m\u001b[1;33m\u001b[0m\u001b[0m\n\u001b[0;32m    999\u001b[0m       \u001b[0mresults\u001b[0m \u001b[1;33m=\u001b[0m \u001b[1;33m[\u001b[0m\u001b[1;33m]\u001b[0m\u001b[1;33m\u001b[0m\u001b[0m\n",
      "\u001b[1;32mc:\\users\\cloud\\anaconda2\\envs\\deeplearn\\lib\\site-packages\\tensorflow\\python\\client\\session.py\u001b[0m in \u001b[0;36m_do_run\u001b[1;34m(self, handle, target_list, fetch_list, feed_dict, options, run_metadata)\u001b[0m\n\u001b[0;32m   1130\u001b[0m     \u001b[1;32mif\u001b[0m \u001b[0mhandle\u001b[0m \u001b[1;32mis\u001b[0m \u001b[1;32mNone\u001b[0m\u001b[1;33m:\u001b[0m\u001b[1;33m\u001b[0m\u001b[0m\n\u001b[0;32m   1131\u001b[0m       return self._do_call(_run_fn, self._session, feed_dict, fetch_list,\n\u001b[1;32m-> 1132\u001b[1;33m                            target_list, options, run_metadata)\n\u001b[0m\u001b[0;32m   1133\u001b[0m     \u001b[1;32melse\u001b[0m\u001b[1;33m:\u001b[0m\u001b[1;33m\u001b[0m\u001b[0m\n\u001b[0;32m   1134\u001b[0m       return self._do_call(_prun_fn, self._session, handle, feed_dict,\n",
      "\u001b[1;32mc:\\users\\cloud\\anaconda2\\envs\\deeplearn\\lib\\site-packages\\tensorflow\\python\\client\\session.py\u001b[0m in \u001b[0;36m_do_call\u001b[1;34m(self, fn, *args)\u001b[0m\n\u001b[0;32m   1137\u001b[0m   \u001b[1;32mdef\u001b[0m \u001b[0m_do_call\u001b[0m\u001b[1;33m(\u001b[0m\u001b[0mself\u001b[0m\u001b[1;33m,\u001b[0m \u001b[0mfn\u001b[0m\u001b[1;33m,\u001b[0m \u001b[1;33m*\u001b[0m\u001b[0margs\u001b[0m\u001b[1;33m)\u001b[0m\u001b[1;33m:\u001b[0m\u001b[1;33m\u001b[0m\u001b[0m\n\u001b[0;32m   1138\u001b[0m     \u001b[1;32mtry\u001b[0m\u001b[1;33m:\u001b[0m\u001b[1;33m\u001b[0m\u001b[0m\n\u001b[1;32m-> 1139\u001b[1;33m       \u001b[1;32mreturn\u001b[0m \u001b[0mfn\u001b[0m\u001b[1;33m(\u001b[0m\u001b[1;33m*\u001b[0m\u001b[0margs\u001b[0m\u001b[1;33m)\u001b[0m\u001b[1;33m\u001b[0m\u001b[0m\n\u001b[0m\u001b[0;32m   1140\u001b[0m     \u001b[1;32mexcept\u001b[0m \u001b[0merrors\u001b[0m\u001b[1;33m.\u001b[0m\u001b[0mOpError\u001b[0m \u001b[1;32mas\u001b[0m \u001b[0me\u001b[0m\u001b[1;33m:\u001b[0m\u001b[1;33m\u001b[0m\u001b[0m\n\u001b[0;32m   1141\u001b[0m       \u001b[0mmessage\u001b[0m \u001b[1;33m=\u001b[0m \u001b[0mcompat\u001b[0m\u001b[1;33m.\u001b[0m\u001b[0mas_text\u001b[0m\u001b[1;33m(\u001b[0m\u001b[0me\u001b[0m\u001b[1;33m.\u001b[0m\u001b[0mmessage\u001b[0m\u001b[1;33m)\u001b[0m\u001b[1;33m\u001b[0m\u001b[0m\n",
      "\u001b[1;32mc:\\users\\cloud\\anaconda2\\envs\\deeplearn\\lib\\site-packages\\tensorflow\\python\\client\\session.py\u001b[0m in \u001b[0;36m_run_fn\u001b[1;34m(session, feed_dict, fetch_list, target_list, options, run_metadata)\u001b[0m\n\u001b[0;32m   1119\u001b[0m         return tf_session.TF_Run(session, options,\n\u001b[0;32m   1120\u001b[0m                                  \u001b[0mfeed_dict\u001b[0m\u001b[1;33m,\u001b[0m \u001b[0mfetch_list\u001b[0m\u001b[1;33m,\u001b[0m \u001b[0mtarget_list\u001b[0m\u001b[1;33m,\u001b[0m\u001b[1;33m\u001b[0m\u001b[0m\n\u001b[1;32m-> 1121\u001b[1;33m                                  status, run_metadata)\n\u001b[0m\u001b[0;32m   1122\u001b[0m \u001b[1;33m\u001b[0m\u001b[0m\n\u001b[0;32m   1123\u001b[0m     \u001b[1;32mdef\u001b[0m \u001b[0m_prun_fn\u001b[0m\u001b[1;33m(\u001b[0m\u001b[0msession\u001b[0m\u001b[1;33m,\u001b[0m \u001b[0mhandle\u001b[0m\u001b[1;33m,\u001b[0m \u001b[0mfeed_dict\u001b[0m\u001b[1;33m,\u001b[0m \u001b[0mfetch_list\u001b[0m\u001b[1;33m)\u001b[0m\u001b[1;33m:\u001b[0m\u001b[1;33m\u001b[0m\u001b[0m\n",
      "\u001b[1;31mKeyboardInterrupt\u001b[0m: "
     ]
    }
   ],
   "source": [
    "# def plot_results(predicted_data, true_data):\n",
    "#     fig = plt.figure(facecolor='white')\n",
    "#     ax = fig.add_subplot(111)\n",
    "#     ax.plot(true_data, label='True Data')\n",
    "#     plt.plot(predicted_data, label='Prediction')\n",
    "#     plt.legend()\n",
    "#     plt.show()\n",
    "models = {}\n",
    "# trainX = X_train\n",
    "# trainY = y_train\n",
    "# testX = X_test\n",
    "# testY = y_test\n",
    "for i in range(0,2):\n",
    "    state = i\n",
    "    if state == 0:\n",
    "        print (\"Fitting stateless model...\")\n",
    "        d0 = time.time()\n",
    "        # 1. define network STATELESS\n",
    "        model = Sequential()\n",
    "        model.add(LSTM(10, input_shape=(1,1)))\n",
    "        model.add(Dropout(0.2))\n",
    "        model.add(Dense(1))\n",
    "        # 2. compile network\n",
    "        model.compile(optimizer='adam', loss='mean_squared_error')\n",
    "        # 3. fit network\n",
    "        history = model.fit(trainX, trainY, epochs=100, batch_size=len(trainX), verbose=1,validation_split=0.05)\n",
    "        # summarize history for loss\n",
    "        plt.figure()\n",
    "        plt.plot(history.history['loss'],label='loss')\n",
    "        plt.plot(history.history['val_loss'],label='val_loss')\n",
    "        plt.title('model loss stateless')\n",
    "        plt.ylabel('loss')\n",
    "        plt.xlabel('epoch')\n",
    "        plt.legend()\n",
    "        plt.show()\n",
    "        # 4. evaluate network\n",
    "        loss = model.evaluate(testX, testY, verbose=0)\n",
    "        print(loss)\n",
    "        models['stateless'] = model\n",
    "        d1 = time.time()\n",
    "        dt = d1-d0\n",
    "        print (\"Time fitting stateless: {}s\".format(dt))\n",
    "    elif state == 1:\n",
    "        print (\"Fitting stateful model...\")\n",
    "        epoch = 20\n",
    "        d0 = time.time()\n",
    "        # 1. define network STATEFUL\n",
    "        batch_size = 1\n",
    "        model = Sequential()\n",
    "        model.add(LSTM(10,batch_input_shape=(batch_size, 1, 1), stateful=True))\n",
    "        model.add(Dropout(0.2))\n",
    "        model.add(Dense(1))\n",
    "        # 2. compile network\n",
    "        model.compile(optimizer='adam', loss='mean_squared_error')\n",
    "        # 3. fit network\n",
    "        loss = []\n",
    "        val_loss = []\n",
    "        for i in range(epoch):\n",
    "            print (\"{}/{} epoch\".format(i+1,epoch))\n",
    "            history = model.fit(trainX, trainY, epochs=1, batch_size=batch_size,verbose=2,shuffle=False,validation_split=0.05)\n",
    "            loss.append(history.history['loss'])\n",
    "            val_loss.append(history.history['val_loss'])\n",
    "            model.reset_states()\n",
    "        # summarize history for loss\n",
    "        plt.figure()\n",
    "        plt.plot(loss,label='loss')\n",
    "        plt.plot(val_loss,label='val_loss')\n",
    "        plt.title('model loss stateful')\n",
    "        plt.ylabel('loss')\n",
    "        plt.xlabel('epoch')\n",
    "        plt.legend()\n",
    "        plt.show()\n",
    "        models['stateful'] = model\n",
    "        d1 = time.time()\n",
    "        dt = d1-d0\n",
    "        print (\"Time fitting stateless: {}s\".format(dt))\n",
    "    elif state == 2:\n",
    "        print (\"Fitting jakobs model...\")\n",
    "        epoch = 100\n",
    "#         trainX = X_train\n",
    "#         trainY = y_train\n",
    "        d0 = time.time()\n",
    "        # Use jakobs model\n",
    "        model = Sequential()\n",
    "        # add hidden lstm with 50 neurons\n",
    "        model.add(LSTM(\n",
    "            50,\n",
    "            input_shape = (1,1),\n",
    "            return_sequences = True))\n",
    "        model.add(Dropout(0.2))\n",
    "        # add another lstm with 100 neurons\n",
    "        model.add(LSTM(\n",
    "            100,\n",
    "            return_sequences=False))\n",
    "        model.add(Dropout(0.2))\n",
    "        # output to 1 neuron\n",
    "        model.add(Dense(1))\n",
    "        model.add(Activation(\"linear\"))\n",
    "        # compile model\n",
    "        model.compile(loss='mse',optimizer='rmsprop')\n",
    "        # fit model\n",
    "        history = model.fit(trainX, trainY, batch_size=32, epochs=epoch, validation_split=0.05)\n",
    "        # summarize history for loss\n",
    "        plt.figure()\n",
    "        plt.plot(history.history['loss'],label='loss')\n",
    "        plt.plot(history.history['val_loss'],label='val_loss')\n",
    "        plt.title('model loss jakobs')\n",
    "        plt.ylabel('loss')\n",
    "        plt.xlabel('epoch')\n",
    "        plt.legend()\n",
    "        plt.show()   \n",
    "        # save to models\n",
    "        models['jakob'] = model\n",
    "        d1 = time.time()\n",
    "        dt = d1-d0\n",
    "        print (\"Time fitting jakob's: {}s\".format(dt))"
   ]
  },
  {
   "cell_type": "code",
   "execution_count": null,
   "metadata": {
    "collapsed": true,
    "scrolled": true
   },
   "outputs": [],
   "source": [
    "# # Try new data pred\n",
    "# import numpy as np\n",
    "# length = 50\n",
    "# sequence = np.arange(0.999,1.01,0.001)\n",
    "# X = sequence\n",
    "# X = X.reshape(len(X), 1, 1)\n",
    "# testX = testX[-50:]\n",
    "# testY = testY[-50:]\n",
    "history.history"
   ]
  },
  {
   "cell_type": "code",
   "execution_count": 4,
   "metadata": {
    "scrolled": false
   },
   "outputs": [
    {
     "name": "stdout",
     "output_type": "stream",
     "text": [
      "Stateful prediction...\n",
      "[[ 0.9999859]] 0.998346054 0.802431\n",
      "RMSE: 0.195915007037\n",
      "Stateless prediction...\n",
      "[[ 0.9999859]] 0.998346054 0.942203\n",
      "RMSE: 0.0561432475272\n"
     ]
    }
   ],
   "source": [
    "# 5. make predictions\n",
    "from sklearn.metrics import mean_squared_error\n",
    "from math import sqrt\n",
    "for mod in models.keys():\n",
    "    if mod == 'stateful':\n",
    "        predictions = models[mod].predict(testX,batch_size=1, verbose=0)\n",
    "        rmse = sqrt(mean_squared_error([testY[-1]],predictions[-1]))\n",
    "        plt.figure(0)\n",
    "        print \"Stateful prediction...\"\n",
    "        print testX[-1],testY[-1],predictions[-1][0]\n",
    "        print \"RMSE: {}\".format(rmse)\n",
    "        plt.title('Stateful')\n",
    "        plt.plot(testX[:, 0],label='initial')\n",
    "        plt.plot(testY,label='shifted true')\n",
    "        plt.plot(predictions,label='shifted pred')\n",
    "        plt.legend()\n",
    "        plt.show()\n",
    "    elif mod == 'stateless':\n",
    "        predictions = models[mod].predict(testX, verbose=0)\n",
    "        rmse = sqrt(mean_squared_error([testY[-1]],predictions[-1]))\n",
    "        plt.figure(1)\n",
    "        print \"Stateless prediction...\"\n",
    "        print testX[-1],testY[-1],predictions[-1][0]\n",
    "        print \"RMSE: {}\".format(rmse)\n",
    "        plt.title('Stateless')\n",
    "        plt.plot(testX[:, 0],label='initial')\n",
    "        plt.plot(testY,label='shifted true')\n",
    "        plt.plot(predictions,label='shifted pred')\n",
    "        plt.legend()\n",
    "        plt.show()\n",
    "    elif mod == 'jakob':\n",
    "#         testX = X_test\n",
    "#         testY = y_test\n",
    "        predictions = models[mod].predict(testX)\n",
    "#         predictions = np.reshape(predictions, (predictions.size,))\n",
    "        rmse = sqrt(mean_squared_error([testY[-1]],predictions[-1]))\n",
    "        plt.figure(3)\n",
    "        print \"Jakob's prediction...\"\n",
    "        print testX[-1],testY[-1],predictions[-1][0]\n",
    "        print \"RMSE: {}\".format(rmse)\n",
    "        plt.title('Jakobs')\n",
    "        plt.plot(testX[:, 0],label='initial')\n",
    "        plt.plot(testY,label='shifted true')\n",
    "        plt.plot(predictions,label='shifted pred')\n",
    "        plt.legend()\n",
    "        plt.show()\n",
    "# stateful = True\n",
    "# if stateful:\n",
    "#     predictions = model.predict(X,batch_size=1, verbose=0)\n",
    "# else:\n",
    "#     predictions = model.predict(X, verbose=0)\n",
    "# # print(predictions[:, 0][-10:])\n",
    "# # predictions = predictions[-10:]\n",
    "# print X[-1],y[-1],predictions[-1][0]\n",
    "# plt.plot(X[:, 0])\n",
    "# plt.plot(predictions)"
   ]
  },
  {
   "cell_type": "code",
   "execution_count": 48,
   "metadata": {},
   "outputs": [
    {
     "name": "stdout",
     "output_type": "stream",
     "text": [
      "Stateful prediction...\n",
      "[[ 0.80588467]] 0.841470985 0.248285\n",
      "RMSE: 0.750061371369\n",
      "Stateless prediction...\n",
      "[[ 0.80588467]] 0.841470985 0.641291\n",
      "RMSE: 0.357055270118\n",
      "Jakob's prediction...\n",
      "1560\n",
      "[[ 0.80588467]] 0.841470985 0.898326\n",
      "RMSE: 0.100020014686\n"
     ]
    }
   ],
   "source": [
    "# 5. make predictions but shift forward n steps\n",
    "from sklearn.metrics import mean_squared_error\n",
    "from math import sqrt\n",
    "n = 10\n",
    "for mod in models.keys():\n",
    "    if mod == 'stateful':\n",
    "        predicted = shifttestX\n",
    "        for i in range(n):\n",
    "            predictions = models[mod].predict(predicted.reshape(len(predicted),1,1),batch_size=1, verbose=0)\n",
    "            predicted = np.append(predicted,predictions[-1])\n",
    "            rmse = sqrt(mean_squared_error([testY[-1]],predictions[-1]))\n",
    "        plt.figure()\n",
    "        print \"Stateful prediction...\"\n",
    "        print shifttestX[-1],shifttestY[-1],predictions[-1][0]\n",
    "        print \"RMSE: {}\".format(rmse)\n",
    "        plt.title('Stateful')\n",
    "        plt.plot(shifttestX[:,0],label='initial')\n",
    "        plt.plot(testY,label='shifted true')\n",
    "        plt.plot(predicted,label='shifted pred')\n",
    "        plt.legend()\n",
    "        plt.show()\n",
    "    elif mod == 'stateless':\n",
    "        predicted = shifttestX\n",
    "        for i in range(n):\n",
    "            predictions = models[mod].predict(predicted.reshape(len(predicted),1,1), verbose=0)\n",
    "            predicted = np.append(predicted,predictions[-1])\n",
    "            rmse = sqrt(mean_squared_error([testY[-1]],predictions[-1]))\n",
    "        plt.figure()\n",
    "        print \"Stateless prediction...\"\n",
    "        print shifttestX[-1],shifttestY[-1],predictions[-1][0]\n",
    "        print \"RMSE: {}\".format(rmse)\n",
    "        plt.title('Stateless')\n",
    "        plt.plot(shifttestX[:,0],label='initial')\n",
    "        plt.plot(testY,label='shifted true')\n",
    "        plt.plot(predicted,label='shifted pred')\n",
    "        plt.legend()\n",
    "        plt.show()\n",
    "    elif mod == 'jakob':\n",
    "        predicted = shifttestX\n",
    "        # testX = X_test\n",
    "        # testY = y_test\n",
    "        for i in range(n):\n",
    "            predictions = models[mod].predict(predicted.reshape(len(predicted),1,1))\n",
    "#             print predictions[-1]\n",
    "            predicted = np.append(predicted,predictions[-1])\n",
    "            rmse = sqrt(mean_squared_error([testY[-1]],predictions[-1]))\n",
    "        plt.figure()\n",
    "        print \"Jakob's prediction...\"\n",
    "        print len(predicted)\n",
    "        print shifttestX[-1],shifttestY[-1],predictions[-1][0]\n",
    "        print \"RMSE: {}\".format(rmse)\n",
    "        plt.title('Jakobs')\n",
    "        plt.plot(shifttestX[:,0],label='initial')\n",
    "        plt.plot(testY,label='shifted true')\n",
    "        plt.plot(predicted,label='shifted pred')\n",
    "        plt.legend()\n",
    "        plt.show()"
   ]
  },
  {
   "cell_type": "code",
   "execution_count": 59,
   "metadata": {},
   "outputs": [
    {
     "name": "stdout",
     "output_type": "stream",
     "text": [
      "[[ 0.81853259]]\n",
      "[[[ 0.80588467]]]\n"
     ]
    }
   ],
   "source": [
    "X = np.array(0.80588467).reshape(1,1,1)\n",
    "p = models['jakob'].predict(X)\n",
    "print p\n",
    "print X"
   ]
  },
  {
   "cell_type": "markdown",
   "metadata": {},
   "source": [
    "Stateful prediction...50\n",
    "[[ 0.80588467]] 0.841470985 0.828496\n",
    "RMSE: 0.0129754229234\n",
    "Stateless prediction...10\n",
    "[[ 0.80588467]] 0.841470985 0.782955\n",
    "RMSE: 0.0585164113687"
   ]
  },
  {
   "cell_type": "code",
   "execution_count": null,
   "metadata": {
    "collapsed": true
   },
   "outputs": [],
   "source": [
    "testX[:,0]"
   ]
  },
  {
   "cell_type": "code",
   "execution_count": null,
   "metadata": {
    "collapsed": true
   },
   "outputs": [],
   "source": [
    "plt.plot(testY,label='shifted pred')"
   ]
  },
  {
   "cell_type": "code",
   "execution_count": null,
   "metadata": {
    "collapsed": true
   },
   "outputs": [],
   "source": [
    "from keras.utils import plot_model\n",
    "plot_model(models['stateful'], to_file='model_stateful.png',show_shapes=True)"
   ]
  },
  {
   "cell_type": "code",
   "execution_count": null,
   "metadata": {
    "collapsed": true,
    "scrolled": true
   },
   "outputs": [],
   "source": [
    "from IPython.display import SVG\n",
    "from keras.utils.vis_utils import model_to_dot\n",
    "\n",
    "SVG(model_to_dot(models['stateful']).create(prog='dot', format='svg'))"
   ]
  },
  {
   "cell_type": "code",
   "execution_count": null,
   "metadata": {
    "collapsed": true
   },
   "outputs": [],
   "source": []
  }
 ],
 "metadata": {
  "kernelspec": {
   "display_name": "Python 3",
   "language": "python",
   "name": "python3"
  },
  "language_info": {
   "codemirror_mode": {
    "name": "ipython",
    "version": 3
   },
   "file_extension": ".py",
   "mimetype": "text/x-python",
   "name": "python",
   "nbconvert_exporter": "python",
   "pygments_lexer": "ipython3",
   "version": "3.5.2"
  }
 },
 "nbformat": 4,
 "nbformat_minor": 2
}
