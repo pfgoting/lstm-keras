{
 "cells": [
  {
   "cell_type": "code",
   "execution_count": 1,
   "metadata": {},
   "outputs": [
    {
     "name": "stderr",
     "output_type": "stream",
     "text": [
      "Using TensorFlow backend.\n"
     ]
    }
   ],
   "source": [
    "'''Example script showing how to use stateful RNNs\n",
    "to model long sequences efficiently.\n",
    "'''\n",
    "from __future__ import print_function\n",
    "import numpy as np\n",
    "import matplotlib.pyplot as plt\n",
    "from keras.models import Sequential\n",
    "from keras.layers import Dense, LSTM\n",
    "import matplotlib\n",
    "import pandas as pd\n",
    "%matplotlib inline"
   ]
  },
  {
   "cell_type": "code",
   "execution_count": null,
   "metadata": {
    "collapsed": true
   },
   "outputs": [],
   "source": [
    "def parser2(x):\n",
    "    return pd.datetime.strptime(x,'%Y-%m')\n",
    "airline = 'international-airline-passengers.csv'\n",
    "series = pd.read_csv(airline, header=0,\n",
    "                 parse_dates=[0], index_col=0, squeeze=True, date_parser=parser2)"
   ]
  },
  {
   "cell_type": "code",
   "execution_count": 2,
   "metadata": {},
   "outputs": [
    {
     "name": "stdout",
     "output_type": "stream",
     "text": [
      "Generating Data...\n",
      "Input shape: (50000, 1, 1)\n",
      "Output shape: (50000, 1)\n",
      "Creating Model...\n",
      "Training\n",
      "Epoch 0 / 25\n"
     ]
    },
    {
     "name": "stderr",
     "output_type": "stream",
     "text": [
      "/home/cloud/.virtualenvs/deeplearn/local/lib/python2.7/site-packages/keras/backend/tensorflow_backend.py:2250: UserWarning: Expected no kwargs, you passed 1\n",
      "kwargs passed to function are ignored with Tensorflow backend\n",
      "  warnings.warn('\\n'.join(msg))\n"
     ]
    },
    {
     "name": "stdout",
     "output_type": "stream",
     "text": [
      "Train on 47500 samples, validate on 2500 samples\n",
      "Epoch 1/1\n",
      "47500/47500 [==============================] - 24s - loss: 364.5946 - val_loss: 0.2098\n",
      "Epoch 1 / 25\n",
      "Train on 47500 samples, validate on 2500 samples\n",
      "Epoch 1/1\n",
      "47500/47500 [==============================] - 20s - loss: 162.1524 - val_loss: 0.3041\n",
      "Epoch 2 / 25\n",
      "Train on 47500 samples, validate on 2500 samples\n",
      "Epoch 1/1\n",
      "47500/47500 [==============================] - 21s - loss: 104.1089 - val_loss: 0.1622\n",
      "Epoch 3 / 25\n",
      "Train on 47500 samples, validate on 2500 samples\n",
      "Epoch 1/1\n",
      "47500/47500 [==============================] - 19s - loss: 58.0343 - val_loss: 0.0249\n",
      "Epoch 4 / 25\n",
      "Train on 47500 samples, validate on 2500 samples\n",
      "Epoch 1/1\n",
      "47500/47500 [==============================] - 18s - loss: 38.7283 - val_loss: 0.2337\n",
      "Epoch 5 / 25\n",
      "Train on 47500 samples, validate on 2500 samples\n",
      "Epoch 1/1\n",
      "47500/47500 [==============================] - 17s - loss: 29.4393 - val_loss: 0.4939\n",
      "Epoch 6 / 25\n",
      "Train on 47500 samples, validate on 2500 samples\n",
      "Epoch 1/1\n",
      "47500/47500 [==============================] - 13s - loss: 24.9864 - val_loss: 0.1339\n",
      "Epoch 7 / 25\n",
      "Train on 47500 samples, validate on 2500 samples\n",
      "Epoch 1/1\n",
      "47500/47500 [==============================] - 12s - loss: 16.9967 - val_loss: 0.2664\n",
      "Epoch 8 / 25\n",
      "Train on 47500 samples, validate on 2500 samples\n",
      "Epoch 1/1\n",
      "47500/47500 [==============================] - 13s - loss: 14.0726 - val_loss: 0.0411\n",
      "Epoch 9 / 25\n",
      "Train on 47500 samples, validate on 2500 samples\n",
      "Epoch 1/1\n",
      "47500/47500 [==============================] - 21s - loss: 11.6540 - val_loss: 0.0063\n",
      "Epoch 10 / 25\n",
      "Train on 47500 samples, validate on 2500 samples\n",
      "Epoch 1/1\n",
      "47500/47500 [==============================] - 17s - loss: 9.9213 - val_loss: 0.0085\n",
      "Epoch 11 / 25\n",
      "Train on 47500 samples, validate on 2500 samples\n",
      "Epoch 1/1\n",
      "47500/47500 [==============================] - 17s - loss: 8.9943 - val_loss: 0.0088\n",
      "Epoch 12 / 25\n",
      "Train on 47500 samples, validate on 2500 samples\n",
      "Epoch 1/1\n",
      "47500/47500 [==============================] - 18s - loss: 7.7854 - val_loss: 0.0081\n",
      "Epoch 13 / 25\n",
      "Train on 47500 samples, validate on 2500 samples\n",
      "Epoch 1/1\n",
      "47500/47500 [==============================] - 13s - loss: 8.1433 - val_loss: 0.0235\n",
      "Epoch 14 / 25\n",
      "Train on 47500 samples, validate on 2500 samples\n",
      "Epoch 1/1\n",
      "47500/47500 [==============================] - 12s - loss: 7.0256 - val_loss: 0.0177\n",
      "Epoch 15 / 25\n",
      "Train on 47500 samples, validate on 2500 samples\n",
      "Epoch 1/1\n",
      "47500/47500 [==============================] - 13s - loss: 6.1929 - val_loss: 0.0024\n",
      "Epoch 16 / 25\n",
      "Train on 47500 samples, validate on 2500 samples\n",
      "Epoch 1/1\n",
      "47500/47500 [==============================] - 14s - loss: 5.8151 - val_loss: 0.0078\n",
      "Epoch 17 / 25\n",
      "Train on 47500 samples, validate on 2500 samples\n",
      "Epoch 1/1\n",
      "47500/47500 [==============================] - 16s - loss: 6.5790 - val_loss: 0.0050\n",
      "Epoch 18 / 25\n",
      "Train on 47500 samples, validate on 2500 samples\n",
      "Epoch 1/1\n",
      "47500/47500 [==============================] - 13s - loss: 5.8223 - val_loss: 0.0029\n",
      "Epoch 19 / 25\n",
      "Train on 47500 samples, validate on 2500 samples\n",
      "Epoch 1/1\n",
      "47500/47500 [==============================] - 13s - loss: 5.5616 - val_loss: 0.0039\n",
      "Epoch 20 / 25\n",
      "Train on 47500 samples, validate on 2500 samples\n",
      "Epoch 1/1\n",
      "47500/47500 [==============================] - 15s - loss: 5.4080 - val_loss: 0.0234\n",
      "Epoch 21 / 25\n",
      "Train on 47500 samples, validate on 2500 samples\n",
      "Epoch 1/1\n",
      "47500/47500 [==============================] - 16s - loss: 5.3304 - val_loss: 0.0975\n",
      "Epoch 22 / 25\n",
      "Train on 47500 samples, validate on 2500 samples\n",
      "Epoch 1/1\n",
      "47500/47500 [==============================] - 14s - loss: 5.1853 - val_loss: 0.0459\n",
      "Epoch 23 / 25\n",
      "Train on 47500 samples, validate on 2500 samples\n",
      "Epoch 1/1\n",
      "47500/47500 [==============================] - 14s - loss: 5.2177 - val_loss: 0.0335\n",
      "Epoch 24 / 25\n",
      "Train on 47500 samples, validate on 2500 samples\n",
      "Epoch 1/1\n",
      "47500/47500 [==============================] - 14s - loss: 4.6737 - val_loss: 0.0050\n"
     ]
    },
    {
     "data": {
      "image/png": "[encoded data removed]",
      "text/plain": [
       "<matplotlib.figure.Figure at 0x7f34a5834990>"
      ]
     },
     "metadata": {},
     "output_type": "display_data"
    },
    {
     "name": "stdout",
     "output_type": "stream",
     "text": [
      "Predicting\n",
      "Plotting Results\n"
     ]
    },
    {
     "data": {
      "image/png": "[encoded data removed]",
      "text/plain": [
       "<matplotlib.figure.Figure at 0x7f34a29e5b90>"
      ]
     },
     "metadata": {},
     "output_type": "display_data"
    }
   ],
   "source": [
    "# since we are using stateful rnn tsteps can be set to 1\n",
    "tsteps = 1\n",
    "batch_size = 25\n",
    "epochs = 25\n",
    "# number of elements ahead that are used to make the prediction\n",
    "lahead = 1\n",
    "\n",
    "\n",
    "def gen_cosine_amp(amp=100, period=1000, x0=0, xn=50000, step=1, k=0.0001):\n",
    "    \"\"\"Generates an absolute cosine time series with the amplitude\n",
    "    exponentially decreasing\n",
    "    Arguments:\n",
    "        amp: amplitude of the cosine function\n",
    "        period: period of the cosine function\n",
    "        x0: initial x of the time series\n",
    "        xn: final x of the time series\n",
    "        step: step of the time series discretization\n",
    "        k: exponential rate\n",
    "    \"\"\"\n",
    "    cos = np.zeros(((xn - x0) * step, 1, 1))\n",
    "    for i in range(len(cos)):\n",
    "        idx = x0 + i * step\n",
    "        cos[i, 0, 0] = amp * np.cos(2 * np.pi * idx / period)\n",
    "        cos[i, 0, 0] = cos[i, 0, 0] * np.exp(-k * idx)\n",
    "    return cos\n",
    "\n",
    "\n",
    "print('Generating Data...')\n",
    "cos = gen_cosine_amp()\n",
    "print('Input shape:', cos.shape)\n",
    "\n",
    "expected_output = np.zeros((len(cos), 1))\n",
    "for i in range(len(cos) - lahead):\n",
    "    expected_output[i, 0] = np.mean(cos[i + 1:i + lahead + 1])\n",
    "\n",
    "print('Output shape:', expected_output.shape)\n",
    "\n",
    "print('Creating Model...')\n",
    "model = Sequential()\n",
    "model.add(LSTM(50,\n",
    "               input_shape=(tsteps, 1),\n",
    "               batch_size=batch_size,\n",
    "               return_sequences=True,\n",
    "               stateful=True))\n",
    "model.add(LSTM(50,\n",
    "               return_sequences=False,\n",
    "               stateful=True))\n",
    "model.add(Dense(1))\n",
    "model.compile(loss='mse', optimizer='rmsprop',validation_split=0.05)\n",
    "\n",
    "print('Training')\n",
    "loss = []\n",
    "val_loss = []\n",
    "for i in range(epochs):\n",
    "    print('Epoch', i, '/', epochs)\n",
    "\n",
    "    # Note that the last state for sample i in a batch will\n",
    "    # be used as initial state for sample i in the next batch.\n",
    "    # Thus we are simultaneously training on batch_size series with\n",
    "    # lower resolution than the original series contained in cos.\n",
    "    # Each of these series are offset by one step and can be\n",
    "    # extracted with cos[i::batch_size].\n",
    "\n",
    "    history = model.fit(cos, expected_output,\n",
    "              batch_size=batch_size,\n",
    "              epochs=1,\n",
    "              verbose=1,\n",
    "              shuffle=False,validation_split=0.05)\n",
    "    loss.append(history.history['loss'])\n",
    "    val_loss.append(history.history['val_loss'])\n",
    "    model.reset_states()\n",
    "    \n",
    "# summarize history for loss\n",
    "plt.figure(0)\n",
    "plt.plot(loss,label='loss')\n",
    "plt.plot(val_loss,label='val_loss')\n",
    "plt.title('model loss')\n",
    "plt.ylabel('loss')\n",
    "plt.xlabel('epoch')\n",
    "plt.legend()\n",
    "plt.show()\n",
    "\n",
    "print('Predicting')\n",
    "predicted_output = model.predict(cos, batch_size=batch_size)\n",
    "\n",
    "print('Plotting Results')\n",
    "plt.figure(1)\n",
    "plt.plot(expected_output,label='expected')\n",
    "plt.plot(predicted_output,label='predicted')\n",
    "plt.legend()\n",
    "# plt.subplot(2, 1, 1)\n",
    "# plt.plot(expected_output)\n",
    "# plt.title('Expected')\n",
    "# plt.subplot(2, 1, 2)\n",
    "# plt.plot(predicted_output)\n",
    "# plt.title('Predicted')\n",
    "plt.show()"
   ]
  },
  {
   "cell_type": "code",
   "execution_count": null,
   "metadata": {
    "collapsed": true
   },
   "outputs": [],
   "source": []
  }
 ],
 "metadata": {
  "kernelspec": {
   "display_name": "Python 2",
   "language": "python",
   "name": "python2"
  },
  "language_info": {
   "codemirror_mode": {
    "name": "ipython",
    "version": 2
   },
   "file_extension": ".py",
   "mimetype": "text/x-python",
   "name": "python",
   "nbconvert_exporter": "python",
   "pygments_lexer": "ipython2",
   "version": "2.7.6"
  }
 },
 "nbformat": 4,
 "nbformat_minor": 2
}
