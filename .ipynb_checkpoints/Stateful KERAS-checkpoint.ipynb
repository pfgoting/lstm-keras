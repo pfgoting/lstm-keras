{
 "cells": [
  {
   "cell_type": "code",
   "execution_count": 1,
   "metadata": {},
   "outputs": [
    {
     "name": "stderr",
     "output_type": "stream",
     "text": [
      "Using TensorFlow backend.\n"
     ]
    }
   ],
   "source": [
    "from pandas import DataFrame\n",
    "from pandas import concat\n",
    "from keras.models import Sequential\n",
    "from keras.layers import Dense,Dropout, Activation\n",
    "from keras.layers import LSTM\n",
    "import matplotlib.pyplot as plt\n",
    "import matplotlib\n",
    "import time\n",
    "import pandas as pd\n",
    "import numpy as np\n",
    "%matplotlib qt\n",
    "from numpy.random import choice"
   ]
  },
  {
   "cell_type": "code",
   "execution_count": 8,
   "metadata": {},
   "outputs": [
    {
     "name": "stdout",
     "output_type": "stream",
     "text": [
      "('sequences_x_train shape:', (11000, 10, 1))\n",
      "('sequences_y_train shape:', (11000, 1))\n",
      "('sequences_x_test shape:', (2200, 10, 1))\n",
      "('sequences_y_test shape:', (2200, 1))\n"
     ]
    }
   ],
   "source": [
    "N_train = 1000\n",
    "X_train = np.zeros((1200,20))\n",
    "\n",
    "\n",
    "one_indexes = choice(a=N_train, size=N_train / 2, replace=False)\n",
    "X_train[one_indexes, 0] = 1  # very long term memory.\n",
    "Y_train = X_train[:,0]\n",
    "x_tr,y_tr = X_train[:1000,],Y_train[:1000,]\n",
    "x_ts,y_ts = X_train[-200:,],Y_train[-200:,]\n",
    "\n",
    "\n",
    "def prepare_sequences(x_train, y_train, window_length):\n",
    "    windows = []\n",
    "    windows_y = []\n",
    "    for i, sequence in enumerate(x_train):\n",
    "        len_seq = len(sequence)\n",
    "        for window_start in range(0, len_seq - window_length + 1):\n",
    "            window_end = window_start + window_length\n",
    "            window = sequence[window_start:window_end]\n",
    "            windows.append(window)\n",
    "            windows_y.append(y_train[i])\n",
    "    return np.array(windows), np.array(windows_y)\n",
    "X_train, y_train = prepare_sequences(x_tr,y_tr,10)\n",
    "X_test, y_test = prepare_sequences(x_ts,y_ts,10)\n",
    "\n",
    "# reshape\n",
    "X_train = X_train.reshape(X_train.shape[0],X_train.shape[1],1)\n",
    "X_test = X_test.reshape(X_test.shape[0],X_test.shape[1],1)\n",
    "\n",
    "y_train = y_train.reshape(y_train.shape[0],1)\n",
    "y_test = y_test.reshape(y_test.shape[0],1)\n",
    "max_len = 20\n",
    "batch_size = 1\n",
    "print('sequences_x_train shape:', X_train.shape)\n",
    "print('sequences_y_train shape:', y_train.shape)\n",
    "\n",
    "print('sequences_x_test shape:', X_test.shape)\n",
    "print('sequences_y_test shape:', y_test.shape)"
   ]
  },
  {
   "cell_type": "code",
   "execution_count": null,
   "metadata": {},
   "outputs": [],
   "source": [
    "X_test.shape"
   ]
  },
  {
   "cell_type": "markdown",
   "metadata": {},
   "source": [
    "Impact of subsequence subsampling"
   ]
  },
  {
   "cell_type": "code",
   "execution_count": 10,
   "metadata": {
    "scrolled": true
   },
   "outputs": [
    {
     "name": "stdout",
     "output_type": "stream",
     "text": [
      "('X_train shape:', (1000, 20))\n",
      "('X_test shape:', (200, 20))\n",
      "('sequences_x_train shape:', (11000, 10, 1))\n",
      "('sequences_y_train shape:', (11000, 1))\n",
      "('sequences_x_test shape:', (2200, 10, 1))\n",
      "('sequences_y_test shape:', (2200, 1))\n"
     ]
    }
   ],
   "source": [
    "USE_SEQUENCES = True\n",
    "max_len = 20\n",
    "batch_size = 1\n",
    "\n",
    "N_train = 1000\n",
    "N_test = 200\n",
    "\n",
    "X_train = np.zeros((N_train, max_len))\n",
    "X_test = np.zeros((N_test, max_len))\n",
    "\n",
    "print('X_train shape:', X_train.shape)\n",
    "print('X_test shape:', X_test.shape)\n",
    "\n",
    "y_train = np.zeros((N_train, 1))\n",
    "y_test = np.zeros((N_test, 1))\n",
    "\n",
    "one_indexes = choice(a=N_train, size=N_train / 2, replace=False)\n",
    "X_train[one_indexes, 0] = 1\n",
    "y_train[one_indexes] = 1\n",
    "\n",
    "one_indexes = choice(a=N_test, size=N_test / 2, replace=False)\n",
    "X_test[one_indexes, 0] = 1\n",
    "y_test[one_indexes] = 1\n",
    "\n",
    "if USE_SEQUENCES:\n",
    "    max_len = 10\n",
    "    X_train, y_train = prepare_sequences(X_train, y_train, window_length=max_len)\n",
    "    X_test, y_test = prepare_sequences(X_test, y_test, window_length=max_len)\n",
    "\n",
    "X_train = np.expand_dims(X_train, axis=2)  # input dim is 1. Timesteps is the sequence length.\n",
    "X_test = np.expand_dims(X_test, axis=2)\n",
    "\n",
    "print('sequences_x_train shape:', X_train.shape)\n",
    "print('sequences_y_train shape:', y_train.shape)\n",
    "\n",
    "print('sequences_x_test shape:', X_test.shape)\n",
    "print('sequences_y_test shape:', y_test.shape)\n"
   ]
  },
  {
   "cell_type": "code",
   "execution_count": null,
   "metadata": {
    "collapsed": true
   },
   "outputs": [],
   "source": [
    "class ResetStatesCallback(Callback):\n",
    "    def __init__(self):\n",
    "        self.counter = 0\n",
    "\n",
    "    def on_batch_begin(self, batch, logs={}):\n",
    "        if self.counter % max_len == 0:\n",
    "            self.model.reset_states()\n",
    "        self.counter += 1"
   ]
  },
  {
   "cell_type": "code",
   "execution_count": null,
   "metadata": {},
   "outputs": [
    {
     "name": "stdout",
     "output_type": "stream",
     "text": [
      "Build STATELESS model...\n",
      "Train...\n",
      "Train on 11000 samples, validate on 2200 samples\n",
      "Epoch 1/15\n",
      "11000/11000 [==============================] - 88s - loss: 0.6811 - acc: 0.5392 - val_loss: 0.6624 - val_acc: 0.5455\n",
      "Epoch 2/15\n",
      "11000/11000 [==============================] - 85s - loss: 0.6636 - acc: 0.5459 - val_loss: 0.6611 - val_acc: 0.5455\n",
      "Epoch 3/15\n",
      "11000/11000 [==============================] - 92s - loss: 0.6627 - acc: 0.5456 - val_loss: 0.6608 - val_acc: 0.5455\n",
      "Epoch 4/15\n",
      " 4173/11000 [==========>...................] - ETA: 53s - loss: 0.6615 - acc: 0.5308"
     ]
    }
   ],
   "source": [
    "print('Build STATELESS model...')\n",
    "model = Sequential()\n",
    "model.add(LSTM(10, input_shape=(max_len, 1), return_sequences=False, stateful=False))\n",
    "model.add(Dense(1, activation='sigmoid'))\n",
    "\n",
    "model.compile(loss='binary_crossentropy', optimizer='adam', metrics=['accuracy'])\n",
    "\n",
    "print('Train...')\n",
    "history = model.fit(X_train, y_train, batch_size=batch_size, nb_epoch=15,\n",
    "          validation_data=(X_test, y_test), shuffle=False)\n",
    "\n",
    "plt.figure()\n",
    "plt.plot(history.history['loss'],label='loss')\n",
    "plt.plot(history.history['val_loss'],label='val_loss')\n",
    "plt.title('model loss stateless')\n",
    "plt.ylabel('loss')\n",
    "plt.xlabel('epoch')\n",
    "plt.legend()\n",
    "plt.show()   \n",
    "\n",
    "score, acc = model.evaluate(X_test, y_test, batch_size=batch_size, verbose=0)\n",
    "print('___________________________________')\n",
    "print('Test score:', score)\n",
    "print('Test accuracy:', acc)"
   ]
  },
  {
   "cell_type": "code",
   "execution_count": null,
   "metadata": {},
   "outputs": [],
   "source": [
    "Y_train.shape"
   ]
  },
  {
   "cell_type": "code",
   "execution_count": null,
   "metadata": {},
   "outputs": [],
   "source": [
    "# STATEFUL MODEL\n",
    "print('Build STATEFUL model...')\n",
    "model = Sequential()\n",
    "model.add(LSTM(10,\n",
    "               batch_input_shape=(1, 1, 1), return_sequences=False,\n",
    "               stateful=True))\n",
    "model.add(Dense(1, activation='sigmoid'))\n",
    "\n",
    "model.compile(loss='binary_crossentropy', optimizer='adam', metrics=['accuracy'])\n",
    "\n",
    "x = np.expand_dims(np.expand_dims(X_train.flatten(), axis=1), axis=1)\n",
    "y = np.expand_dims(np.array([[v] * max_len for v in y_train.flatten()]).flatten(), axis=1)\n",
    "model.fit(x,\n",
    "          y,\n",
    "          callbacks=[ResetStatesCallback()],\n",
    "          batch_size=1,\n",
    "          shuffle=False)\n",
    "\n",
    "print('Train...')\n",
    "for epoch in range(15):\n",
    "    mean_tr_acc = []\n",
    "    mean_tr_loss = []\n",
    "    for i in range(len(X_train)):\n",
    "        y_true = y_train[i]\n",
    "        for j in range(max_len):\n",
    "            tr_loss, tr_acc = model.train_on_batch(np.expand_dims(np.expand_dims(X_train[i][j], axis=1), axis=1),\n",
    "                                                   np.array([y_true]))\n",
    "            mean_tr_acc.append(tr_acc)\n",
    "            mean_tr_loss.append(tr_loss)\n",
    "        model.reset_states()\n",
    "\n",
    "    print('accuracy training = {}'.format(np.mean(mean_tr_acc)))\n",
    "    print('loss training = {}'.format(np.mean(mean_tr_loss)))\n",
    "    print('___________________________________')\n",
    "\n",
    "    mean_te_acc = []\n",
    "    mean_te_loss = []\n",
    "    for i in range(len(X_test)):\n",
    "        for j in range(max_len):\n",
    "            te_loss, te_acc = model.test_on_batch(np.expand_dims(np.expand_dims(X_test[i][j], axis=1), axis=1),\n",
    "                                                  y_test[i])\n",
    "            mean_te_acc.append(te_acc)\n",
    "            mean_te_loss.append(te_loss)\n",
    "        model.reset_states()\n",
    "\n",
    "        for j in range(max_len):\n",
    "            y_pred = model.predict_on_batch(np.expand_dims(np.expand_dims(X_test[i][j], axis=1), axis=1))\n",
    "        model.reset_states()\n",
    "\n",
    "    print('accuracy testing = {}'.format(np.mean(mean_te_acc)))\n",
    "    print('loss testing = {}'.format(np.mean(mean_te_loss)))\n",
    "    print('___________________________________')"
   ]
  },
  {
   "cell_type": "code",
   "execution_count": null,
   "metadata": {
    "collapsed": true
   },
   "outputs": [],
   "source": []
  }
 ],
 "metadata": {
  "kernelspec": {
   "display_name": "Python 2",
   "language": "python",
   "name": "python2"
  },
  "language_info": {
   "codemirror_mode": {
    "name": "ipython",
    "version": 2
   },
   "file_extension": ".py",
   "mimetype": "text/x-python",
   "name": "python",
   "nbconvert_exporter": "python",
   "pygments_lexer": "ipython2",
   "version": "2.7.6"
  }
 },
 "nbformat": 4,
 "nbformat_minor": 2
}
