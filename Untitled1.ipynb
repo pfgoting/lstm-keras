{
 "cells": [
  {
   "cell_type": "code",
   "execution_count": 8,
   "metadata": {
    "collapsed": true
   },
   "outputs": [],
   "source": [
    "# Example of LSTM to learn a sequence\n",
    "from pandas import DataFrame\n",
    "from pandas import concat\n",
    "from keras.models import Sequential\n",
    "from keras.layers import Dense\n",
    "from keras.layers import LSTM\n",
    "import matplotlib.pyplot as plt\n",
    "import matplotlib\n",
    "import time\n",
    "import pandas as pd\n",
    "import numpy as np\n",
    "%matplotlib inline"
   ]
  },
  {
   "cell_type": "code",
   "execution_count": 21,
   "metadata": {},
   "outputs": [
    {
     "name": "stdout",
     "output_type": "stream",
     "text": [
      "(4950, 51)\n"
     ]
    }
   ],
   "source": [
    "sin = 'sinwave.csv'\n",
    "seq_len = 50\n",
    "normalise_window = False\n",
    "\n",
    "f = open(sin, 'rb').read()\n",
    "data = f.decode().split('\\n')\n",
    "\n",
    "sequence_length = seq_len + 1\n",
    "result = []\n",
    "for index in range(len(data) - sequence_length):\n",
    "    result.append(data[index: index + sequence_length])\n",
    "\n",
    "if normalise_window:\n",
    "    result = normalise_windows(result)\n",
    "\n",
    "result = np.array(result)\n",
    "print result.shape"
   ]
  },
  {
   "cell_type": "code",
   "execution_count": 22,
   "metadata": {
    "collapsed": true
   },
   "outputs": [],
   "source": [
    "row = round(0.9 * result.shape[0])\n",
    "train = result[:int(row), :]\n",
    "np.random.shuffle(train)\n",
    "x_train = train[:, :-1]\n",
    "y_train = train[:, -1]\n",
    "x_test = result[int(row):, :-1]\n",
    "y_test = result[int(row):, -1]\n",
    "\n",
    "x_train = np.reshape(x_train, (x_train.shape[0], x_train.shape[1], 1))\n",
    "x_test = np.reshape(x_test, (x_test.shape[0], x_test.shape[1], 1))"
   ]
  },
  {
   "cell_type": "code",
   "execution_count": 43,
   "metadata": {},
   "outputs": [
    {
     "data": {
      "text/plain": [
       "array([u'-0.841470985', u'-0.873736397', u'-0.90255357', u'-0.927808777',\n",
       "       u'-0.949402346', u'-0.967249058', u'-0.98127848', u'-0.991435244',\n",
       "       u'-0.997679266', u'-0.999985904', u'-0.998346054', u'-0.992766189',\n",
       "       u'-0.983268329', u'-0.969889958', u'-0.952683874', u'-0.931717983',\n",
       "       u'-0.907075026', u'-0.878852258', u'-0.847161063', u'-0.812126509',\n",
       "       u'-0.773886863', u'-0.73259304', u'-0.688408006', u'-0.64150614',\n",
       "       u'-0.592072543', u'-0.540302306', u'-0.486399742', u'-0.430577581',\n",
       "       u'-0.373056127', u'-0.314062391', u'-0.253829194', u'-0.192594249',\n",
       "       u'-0.130599223', u'-0.068088781', u'-0.005309624', u'0.057490488',\n",
       "       u'0.120063711', u'0.182163097', u'0.243543569', u'0.303962886',\n",
       "       u'0.3631826', u'0.420968998', u'0.477094024', u'0.531336178',\n",
       "       u'0.583481391', u'0.633323869', u'0.680666907', u'0.725323664',\n",
       "       u'0.7671179', u'0.805884672', u'0.841470985'], \n",
       "      dtype='<U12')"
      ]
     },
     "execution_count": 43,
     "metadata": {},
     "output_type": "execute_result"
    }
   ],
   "source": [
    "result[0]"
   ]
  },
  {
   "cell_type": "code",
   "execution_count": 32,
   "metadata": {},
   "outputs": [
    {
     "data": {
      "text/plain": [
       "(4455, 51)"
      ]
     },
     "execution_count": 32,
     "metadata": {},
     "output_type": "execute_result"
    }
   ],
   "source": [
    "train = result[:int(row), :]\n",
    "train.shape"
   ]
  },
  {
   "cell_type": "code",
   "execution_count": 33,
   "metadata": {},
   "outputs": [
    {
     "data": {
      "text/plain": [
       "4950"
      ]
     },
     "execution_count": 33,
     "metadata": {},
     "output_type": "execute_result"
    }
   ],
   "source": [
    "len(result)"
   ]
  },
  {
   "cell_type": "code",
   "execution_count": null,
   "metadata": {
    "collapsed": true
   },
   "outputs": [],
   "source": []
  }
 ],
 "metadata": {
  "kernelspec": {
   "display_name": "Python 3",
   "language": "python",
   "name": "python3"
  },
  "language_info": {
   "codemirror_mode": {
    "name": "ipython",
    "version": 3
   },
   "file_extension": ".py",
   "mimetype": "text/x-python",
   "name": "python",
   "nbconvert_exporter": "python",
   "pygments_lexer": "ipython3",
   "version": "3.5.3"
  }
 },
 "nbformat": 4,
 "nbformat_minor": 2
}
